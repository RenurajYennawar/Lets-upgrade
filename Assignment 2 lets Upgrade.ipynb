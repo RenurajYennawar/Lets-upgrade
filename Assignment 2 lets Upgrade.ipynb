{
 "cells": [
  {
   "cell_type": "code",
   "execution_count": 9,
   "metadata": {},
   "outputs": [
    {
     "data": {
      "text/plain": [
       "[0, 2, 4, 6, 8]"
      ]
     },
     "execution_count": 9,
     "metadata": {},
     "output_type": "execute_result"
    }
   ],
   "source": [
    "# Create an empty list. Accept 10 numbers from the user and append to it the list if it is an even number.\n",
    "emptyList=[]\n",
    "for i in range(10):\n",
    "    if i%2==0:\n",
    "        emptyList.append(i)\n",
    "emptyList\n",
    "    \n",
    "    "
   ]
  },
  {
   "cell_type": "code",
   "execution_count": 1,
   "metadata": {},
   "outputs": [
    {
     "name": "stdout",
     "output_type": "stream",
     "text": [
      "[0, 1, 4, 9, 16, 25, 36, 49, 64, 81]\n"
     ]
    }
   ],
   "source": [
    "# Example on List Comprehensions\n",
    "#1.list comprehensions provide aconcise way to create lists.\n",
    "#2.common applications are to make new lists where each element is the result of some operations applied to each member of another sequence or iterable or to create a subsequence of those elements that satisfy certain conditions.\n",
    "# Ex: create a list which stores squares of first 10 numbers.\n",
    "Squares=[i**2 for i in range(10)]\n",
    "print(Squares)"
   ]
  },
  {
   "cell_type": "code",
   "execution_count": 15,
   "metadata": {},
   "outputs": [
    {
     "name": "stdout",
     "output_type": "stream",
     "text": [
      "enter input:4\n",
      "{1: 1, 2: 4, 3: 9, 4: 16}\n"
     ]
    }
   ],
   "source": [
    "# Write a program that generates a dictionary d which contains (i,i*i) where i is from 1 to n.\n",
    "i=int(input(\"enter input:\"))\n",
    "d= dict()\n",
    "for i in range(1,i+1):\n",
    "    d[i]=i*i\n",
    "print(d)"
   ]
  },
  {
   "cell_type": "code",
   "execution_count": 20,
   "metadata": {},
   "outputs": [
    {
     "name": "stdout",
     "output_type": "stream",
     "text": [
      "2\n"
     ]
    }
   ],
   "source": [
    "# Write a program to compute distance from original position to current position.\n",
    "input=4\n",
    "#UP 5\n",
    "#DOWN 3\n",
    "#   LEFT 3\n",
    " #  RIGHT 2\n",
    "originaldistance=input\n",
    "currentdistance=2\n",
    "distance=originaldistance- currentdistance\n",
    "print(distance)"
   ]
  },
  {
   "cell_type": "code",
   "execution_count": null,
   "metadata": {},
   "outputs": [],
   "source": []
  }
 ],
 "metadata": {
  "kernelspec": {
   "display_name": "Python 3",
   "language": "python",
   "name": "python3"
  },
  "language_info": {
   "codemirror_mode": {
    "name": "ipython",
    "version": 3
   },
   "file_extension": ".py",
   "mimetype": "text/x-python",
   "name": "python",
   "nbconvert_exporter": "python",
   "pygments_lexer": "ipython3",
   "version": "3.7.6"
  }
 },
 "nbformat": 4,
 "nbformat_minor": 4
}
